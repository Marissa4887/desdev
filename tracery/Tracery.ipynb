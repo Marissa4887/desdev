{
 "cells": [
  {
   "cell_type": "markdown",
   "metadata": {},
   "source": [
    "# Creative Project 2\n",
    "\n",
    "## Marissa Salas\n",
    "\n",
    "### A creative system of randomized techniques using tracery for a literary creative story and poem by refining text using chance operations.\n"
   ]
  },
  {
   "cell_type": "code",
   "execution_count": 4,
   "metadata": {},
   "outputs": [],
   "source": [
    "from IPython.display import display, HTML"
   ]
  },
  {
   "cell_type": "code",
   "execution_count": 5,
   "metadata": {},
   "outputs": [
    {
     "data": {
      "text/html": [
       "<!DOCTYPE HTML PUBLIC \"-//W3C//DTD HTML 4.01 Transitional//EN\"\n",
       "\"http://www.w3.org/TR/html4/loose.dtd\">\n",
       "<html xmlns=\"http://www.w3.org/1999/xhtml\">\n",
       "\t<head>\n",
       "\t\t<meta http-equiv=\"Content-Type\" content=\"text/html; charset=utf-8\" />\n",
       "\t\t<title>Tracery Demos</title>\n",
       "\t\t<link rel=\"stylesheet\" href=\"css/layout.css\">\n",
       "\n",
       "\t</head>\n",
       "\t<body>\n",
       "\t\t<div id=\"container\">\n",
       "\n",
       "\t\t\t<div id=\"content\">\n",
       "\n",
       "\t\t\t\t<h1>Tracery</h1>\n",
       "\t\t\t\t<h2>created by Marissa Salas</h2>\n",
       "\t\t\t\t\n",
       "\t\t\t\t<select id=\"grammarSelect\">\n",
       "\t\t\t\t\t<option value=\"poem\">Poetry</option>\n",
       "\t\t\t\t\t<option value=\"neverbar\">Neverbar</option>\n",
       "\t\t\t\t</select>\n",
       "\n",
       "\t\t\t\t<div id=\"output\">\n",
       "\t\t\t\t\tOutput\n",
       "\t\t\t\t</div>\n",
       "\t\t\t\t<div id=\"grammar\">\n",
       "\t\t\t\t\tUse the pull down to select a random poem or neverbar story.\n",
       "\t\t\t\t</div>\n",
       "\t\t\t</div>\n",
       "\t\t</div>\n",
       "\t\t<script src=\"js/vendor/jquery-1.11.2.min.js\"></script>\n",
       "\t\t<script src=\"js/tracery.min.js\"></script>\n",
       "\t\t<script src=\"js/MSgrammars.js\"></script>\n",
       "\t\t<script src=\"js/app.js\"></script>\n",
       "\n",
       "\t</body>\n",
       "</html>\n"
      ],
      "text/plain": [
       "<IPython.core.display.HTML object>"
      ]
     },
     "metadata": {},
     "output_type": "display_data"
    }
   ],
   "source": [
    "display(HTML('index.html'))"
   ]
  },
  {
   "cell_type": "code",
   "execution_count": null,
   "metadata": {},
   "outputs": [],
   "source": []
  }
 ],
 "metadata": {
  "kernelspec": {
   "display_name": "Python 3",
   "language": "python",
   "name": "python3"
  },
  "language_info": {
   "codemirror_mode": {
    "name": "ipython",
    "version": 3
   },
   "file_extension": ".py",
   "mimetype": "text/x-python",
   "name": "python",
   "nbconvert_exporter": "python",
   "pygments_lexer": "ipython3",
   "version": "3.8.3"
  }
 },
 "nbformat": 4,
 "nbformat_minor": 4
}
