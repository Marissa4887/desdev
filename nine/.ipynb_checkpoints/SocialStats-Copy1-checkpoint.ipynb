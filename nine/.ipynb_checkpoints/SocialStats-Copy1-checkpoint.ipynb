{
 "cells": [
  {
   "cell_type": "markdown",
   "metadata": {},
   "source": [
    "# Exercise Nine: Social Stats\n",
    "\n",
    "Marissa Salas\n",
    "\n"
   ]
  },
  {
   "cell_type": "markdown",
   "metadata": {},
   "source": [
    "Import of the General Social Survey (GSS) data selected columns for the years 2006, 2008 and 2010."
   ]
  },
  {
   "cell_type": "code",
   "execution_count": 5,
   "metadata": {
    "scrolled": false
   },
   "outputs": [],
   "source": [
    "import pandas as pd\n",
    "\n",
    "# we restrict this (very large) dataset to the variables of interest\n",
    "columns = ['id', 'year', 'age', 'sex', 'race','sibs','childs','degree', 'realrinc', \"polviews\"]\n",
    "\n",
    "df = pd.read_stata(\"GSS7218_R1.dta\", columns=columns)\n",
    "\n",
    "# further limit dataset to the years we are interested in\n",
    "df = df.loc[df['year'].isin({2006, 2008, 2010})]\n",
    "\n",
    "#print(df.head)"
   ]
  },
  {
   "cell_type": "markdown",
   "metadata": {},
   "source": [
    "Next, the limiation of the records of those respondents that are null for income, siblings, and political views. "
   ]
  },
  {
   "cell_type": "code",
   "execution_count": 6,
   "metadata": {
    "scrolled": true
   },
   "outputs": [],
   "source": [
    "# limit dataset to exclude records from individuals who refused\n",
    "# to report their income\n",
    "df = df.loc[df['realrinc'].notnull()]\n",
    "#print(df.head)"
   ]
  },
  {
   "cell_type": "code",
   "execution_count": 7,
   "metadata": {},
   "outputs": [],
   "source": [
    "# limit dataset to exclude records from individuals who refused\n",
    "# to report siblings\n",
    "df = df.loc[df['sibs'].notnull()]\n",
    "#print(df.head)"
   ]
  },
  {
   "cell_type": "code",
   "execution_count": 8,
   "metadata": {},
   "outputs": [],
   "source": [
    "# limit dataset to exclude records from individuals who refused\n",
    "# to report siblings\n",
    "df = df.loc[df['polviews'].notnull()]\n",
    "#print(df.head)"
   ]
  },
  {
   "cell_type": "markdown",
   "metadata": {},
   "source": [
    "Next, a check of the GSS data."
   ]
  },
  {
   "cell_type": "code",
   "execution_count": 9,
   "metadata": {
    "scrolled": true
   },
   "outputs": [
    {
     "name": "stdout",
     "output_type": "stream",
     "text": [
      "<bound method NDFrame.head of          id  year age     sex   race sibs childs          degree  realrinc  \\\n",
      "46510     1  2006  50  female  black  1.0      3     HIGH SCHOOL  18476.25   \n",
      "46511     2  2006  27    male  other  5.0      1     HIGH SCHOOL  38373.75   \n",
      "46513     4  2006  50  female  black  3.0      1     HIGH SCHOOL   1137.00   \n",
      "46515     6  2006  35  female  other  0.0      2        bachelor  18476.25   \n",
      "46518     9  2006  23  female  black  0.0      0        bachelor  25582.50   \n",
      "...     ...   ...  ..     ...    ...  ...    ...             ...       ...   \n",
      "55076  2034  2010  48  female  white  1.0      2     HIGH SCHOOL  12302.50   \n",
      "55079  2037  2010  21  female  white  3.0      0     HIGH SCHOOL   9712.50   \n",
      "55080  2038  2010  70    male  other  5.0      4  LT HIGH SCHOOL   4662.00   \n",
      "55084  2042  2010  54  female  white  4.0      2     HIGH SCHOOL  11007.50   \n",
      "55086  2044  2010  30    male  white  2.0      0     HIGH SCHOOL  19425.00   \n",
      "\n",
      "                   polviews  \n",
      "46510     EXTREMELY LIBERAL  \n",
      "46511      SLIGHTLY LIBERAL  \n",
      "46513      SLIGHTLY LIBERAL  \n",
      "46515              moderate  \n",
      "46518          conservative  \n",
      "...                     ...  \n",
      "55076              moderate  \n",
      "55079  SLGHTLY CONSERVATIVE  \n",
      "55080              moderate  \n",
      "55084      SLIGHTLY LIBERAL  \n",
      "55086              moderate  \n",
      "\n",
      "[4041 rows x 10 columns]>\n"
     ]
    }
   ],
   "source": [
    "# REALITY CHECK, using GSS provided values\n",
    "df.loc[df['year'] == 2008, 'realrinc'].astype(float).min() == 333;\n",
    "round(df.loc[df['year'] == 2008, 'realrinc'].astype(float).mean(), 2) == 22110.13;\n",
    "print(df.head)\n"
   ]
  },
  {
   "cell_type": "markdown",
   "metadata": {},
   "source": [
    "Next, using the BLS a factor of 1.31 to normalize 2006, 2008 and 2010 data to approximate 2020 income."
   ]
  },
  {
   "cell_type": "code",
   "execution_count": 10,
   "metadata": {
    "scrolled": true
   },
   "outputs": [
    {
     "name": "stdout",
     "output_type": "stream",
     "text": [
      "<bound method NDFrame.head of          id  year age     sex   race sibs childs          degree  realrinc  \\\n",
      "46510     1  2006  50  female  black  1.0      3     HIGH SCHOOL  18476.25   \n",
      "46511     2  2006  27    male  other  5.0      1     HIGH SCHOOL  38373.75   \n",
      "46513     4  2006  50  female  black  3.0      1     HIGH SCHOOL   1137.00   \n",
      "46515     6  2006  35  female  other  0.0      2        bachelor  18476.25   \n",
      "46518     9  2006  23  female  black  0.0      0        bachelor  25582.50   \n",
      "...     ...   ...  ..     ...    ...  ...    ...             ...       ...   \n",
      "55076  2034  2010  48  female  white  1.0      2     HIGH SCHOOL  12302.50   \n",
      "55079  2037  2010  21  female  white  3.0      0     HIGH SCHOOL   9712.50   \n",
      "55080  2038  2010  70    male  other  5.0      4  LT HIGH SCHOOL   4662.00   \n",
      "55084  2042  2010  54  female  white  4.0      2     HIGH SCHOOL  11007.50   \n",
      "55086  2044  2010  30    male  white  2.0      0     HIGH SCHOOL  19425.00   \n",
      "\n",
      "                   polviews  realrinc2020  \n",
      "46510     EXTREMELY LIBERAL    24203.8875  \n",
      "46511      SLIGHTLY LIBERAL    50269.6125  \n",
      "46513      SLIGHTLY LIBERAL     1489.4700  \n",
      "46515              moderate    24203.8875  \n",
      "46518          conservative    33513.0750  \n",
      "...                     ...           ...  \n",
      "55076              moderate    16116.2750  \n",
      "55079  SLGHTLY CONSERVATIVE    12723.3750  \n",
      "55080              moderate     6107.2200  \n",
      "55084      SLIGHTLY LIBERAL    14419.8250  \n",
      "55086              moderate    25446.7500  \n",
      "\n",
      "[4041 rows x 11 columns]>\n"
     ]
    }
   ],
   "source": [
    "# inflation measured BLS https://www.bls.gov/data/inflation_calculator.htm to get 2020 estimates using a factor of 1.31 \n",
    "# for the 2006 to 2010 years average rates per year to convert to 2020. \n",
    "# I used https://www.census.gov/library/publications/2021/demo/p60-273.html for 2020 comparisions.\n",
    "\n",
    "bls2006_vs_2010 = 1.31\n",
    "assert df['realrinc'].astype(float).median() < 24000  # reality check\n",
    "df['realrinc2020'] = bls2006_vs_2010 * df['realrinc'].astype(float)\n",
    "print(df.head)"
   ]
  },
  {
   "cell_type": "markdown",
   "metadata": {},
   "source": [
    "Now, a histogram plot of frequencies of reported incomes across education levels. "
   ]
  },
  {
   "cell_type": "code",
   "execution_count": 11,
   "metadata": {},
   "outputs": [
    {
     "data": {
      "image/png": "[encoded data removed]",
      "text/plain": [
       "<Figure size 432x288 with 1 Axes>"
      ]
     },
     "metadata": {
      "needs_background": "light"
     },
     "output_type": "display_data"
    }
   ],
   "source": [
    "import matplotlib.pyplot as plt\n",
    "df.groupby('degree')['realrinc2020'].plot(kind='hist', bins=30)\n",
    "plt.xlabel('Education')\n",
    "plt.legend();"
   ]
  },
  {
   "cell_type": "markdown",
   "metadata": {},
   "source": [
    "Now, a histogram plot of frequencies of reported incomes across the number of kids in a family. "
   ]
  },
  {
   "cell_type": "code",
   "execution_count": 12,
   "metadata": {},
   "outputs": [
    {
     "data": {
      "image/png": "[encoded data removed]",
      "text/plain": [
       "<Figure size 432x288 with 1 Axes>"
      ]
     },
     "metadata": {
      "needs_background": "light"
     },
     "output_type": "display_data"
    }
   ],
   "source": [
    "import matplotlib.pyplot as plt\n",
    "df.groupby('childs')['realrinc2020'].plot(kind='hist', bins=30)\n",
    "plt.xlabel('Kids in Family')\n",
    "plt.legend();"
   ]
  },
  {
   "cell_type": "markdown",
   "metadata": {},
   "source": [
    "Now, a better view is created by using logarithmic function, and repear the histogram plot of frequencies of reported incomes across the number of kids in a family.\n",
    "\n",
    "This view shows the skewing of the data to the right towards higher incomes (approx. 2020 dollars) and the outliers both on the \n",
    "high incomes (with a lower frequency) and lower incomes (with higher frequncies). These outliers we will ignore and focus on \n",
    "the majority of what the data is telling us.\n",
    "\n",
    "Further the following plot shows a simliar pattern. Showing a surprising similarity between education and the number of children in a household. But causality does not mean correlation."
   ]
  },
  {
   "cell_type": "code",
   "execution_count": 13,
   "metadata": {},
   "outputs": [
    {
     "data": {
      "image/png": "[encoded data removed]",
      "text/plain": [
       "<Figure size 432x288 with 1 Axes>"
      ]
     },
     "metadata": {
      "needs_background": "light"
     },
     "output_type": "display_data"
    }
   ],
   "source": [
    "import numpy as np\n",
    "\n",
    "df['realrinc2020_log10'] = np.log10(df['realrinc2020'])\n",
    "df.groupby('childs')['realrinc2020_log10'].plot(kind='hist', bins=30)\n",
    "plt.xlabel(r'$\\log10(\\mathrm{Income})$')\n",
    "plt.legend();"
   ]
  },
  {
   "cell_type": "code",
   "execution_count": 15,
   "metadata": {},
   "outputs": [
    {
     "data": {
      "image/png": "[encoded data removed]",
      "text/plain": [
       "<Figure size 432x288 with 1 Axes>"
      ]
     },
     "metadata": {
      "needs_background": "light"
     },
     "output_type": "display_data"
    }
   ],
   "source": [
    "import numpy as np\n",
    "\n",
    "df['realrinc2020_log10'] = np.log10(df['realrinc2020'])\n",
    "df.groupby('degree')['realrinc2020_log10'].plot(kind='hist', bins=30)\n",
    "plt.xlabel(r'$\\log10(\\mathrm{Income})$')\n",
    "plt.legend();"
   ]
  },
  {
   "cell_type": "markdown",
   "metadata": {},
   "source": [
    "Next, we review the midrange, mean and median of these data here. This allows another view of the data's representation of both who is in the data and who is not represented. "
   ]
  },
  {
   "cell_type": "code",
   "execution_count": 16,
   "metadata": {},
   "outputs": [
    {
     "name": "stdout",
     "output_type": "stream",
     "text": [
      "1853.8396635405406\n",
      "33267.12575849246\n",
      "22053.850000000002\n"
     ]
    }
   ],
   "source": [
    "print(df['realrinc2020'].max() / df['realrinc2020'].min())\n",
    "print(df['realrinc2020'].mean())\n",
    "print(df['realrinc2020'].median())"
   ]
  },
  {
   "cell_type": "markdown",
   "metadata": {},
   "source": [
    "Next, we review the size, mean and median of these data by year across the same variable. Here we see we have more respondents in 2006 vs the other years that have bachelors degrees, which will give more weight to the 2006 data but for the graduate cateogry we see more even number of respondents across years. \n",
    "\n",
    "A similar review of incomes for these two comparisons shows the 2008 graduate group has a large mean of $109,568 compared to the others.  "
   ]
  },
  {
   "cell_type": "code",
   "execution_count": 17,
   "metadata": {},
   "outputs": [
    {
     "data": {
      "text/html": [
       "<div>\n",
       "<style scoped>\n",
       "    .dataframe tbody tr th:only-of-type {\n",
       "        vertical-align: middle;\n",
       "    }\n",
       "\n",
       "    .dataframe tbody tr th {\n",
       "        vertical-align: top;\n",
       "    }\n",
       "\n",
       "    .dataframe thead th {\n",
       "        text-align: right;\n",
       "    }\n",
       "</style>\n",
       "<table border=\"1\" class=\"dataframe\">\n",
       "  <thead>\n",
       "    <tr style=\"text-align: right;\">\n",
       "      <th></th>\n",
       "      <th></th>\n",
       "      <th>size</th>\n",
       "      <th>mean</th>\n",
       "      <th>median</th>\n",
       "    </tr>\n",
       "    <tr>\n",
       "      <th>year</th>\n",
       "      <th>degree</th>\n",
       "      <th></th>\n",
       "      <th></th>\n",
       "      <th></th>\n",
       "    </tr>\n",
       "  </thead>\n",
       "  <tbody>\n",
       "    <tr>\n",
       "      <th>2006</th>\n",
       "      <th>bachelor</th>\n",
       "      <td>352</td>\n",
       "      <td>42974.737195</td>\n",
       "      <td>33513.075</td>\n",
       "    </tr>\n",
       "    <tr>\n",
       "      <th>2008</th>\n",
       "      <th>bachelor</th>\n",
       "      <td>220</td>\n",
       "      <td>58997.064761</td>\n",
       "      <td>31567.725</td>\n",
       "    </tr>\n",
       "    <tr>\n",
       "      <th>2010</th>\n",
       "      <th>bachelor</th>\n",
       "      <td>244</td>\n",
       "      <td>37943.662024</td>\n",
       "      <td>30536.100</td>\n",
       "    </tr>\n",
       "  </tbody>\n",
       "</table>\n",
       "</div>"
      ],
      "text/plain": [
       "               size          mean     median\n",
       "year degree                                 \n",
       "2006 bachelor   352  42974.737195  33513.075\n",
       "2008 bachelor   220  58997.064761  31567.725\n",
       "2010 bachelor   244  37943.662024  30536.100"
      ]
     },
     "execution_count": 17,
     "metadata": {},
     "output_type": "execute_result"
    }
   ],
   "source": [
    "df_bachelor = df[df['degree'] == 'bachelor']\n",
    "# observed=True instructs pandas to ignore categories\n",
    "# without any observations\n",
    "df_bachelor.groupby(['year', 'degree'], observed=True)['realrinc2020'].agg(['size', 'mean', 'median'])"
   ]
  },
  {
   "cell_type": "code",
   "execution_count": 18,
   "metadata": {},
   "outputs": [
    {
     "data": {
      "text/html": [
       "<div>\n",
       "<style scoped>\n",
       "    .dataframe tbody tr th:only-of-type {\n",
       "        vertical-align: middle;\n",
       "    }\n",
       "\n",
       "    .dataframe tbody tr th {\n",
       "        vertical-align: top;\n",
       "    }\n",
       "\n",
       "    .dataframe thead th {\n",
       "        text-align: right;\n",
       "    }\n",
       "</style>\n",
       "<table border=\"1\" class=\"dataframe\">\n",
       "  <thead>\n",
       "    <tr style=\"text-align: right;\">\n",
       "      <th></th>\n",
       "      <th></th>\n",
       "      <th>size</th>\n",
       "      <th>mean</th>\n",
       "      <th>median</th>\n",
       "    </tr>\n",
       "    <tr>\n",
       "      <th>year</th>\n",
       "      <th>degree</th>\n",
       "      <th></th>\n",
       "      <th></th>\n",
       "      <th></th>\n",
       "    </tr>\n",
       "  </thead>\n",
       "  <tbody>\n",
       "    <tr>\n",
       "      <th>2006</th>\n",
       "      <th>graduate</th>\n",
       "      <td>176</td>\n",
       "      <td>54057.266499</td>\n",
       "      <td>40960.4250</td>\n",
       "    </tr>\n",
       "    <tr>\n",
       "      <th>2008</th>\n",
       "      <th>graduate</th>\n",
       "      <td>134</td>\n",
       "      <td>109567.882773</td>\n",
       "      <td>47351.5875</td>\n",
       "    </tr>\n",
       "    <tr>\n",
       "      <th>2010</th>\n",
       "      <th>graduate</th>\n",
       "      <td>155</td>\n",
       "      <td>47398.579962</td>\n",
       "      <td>45804.1500</td>\n",
       "    </tr>\n",
       "  </tbody>\n",
       "</table>\n",
       "</div>"
      ],
      "text/plain": [
       "               size           mean      median\n",
       "year degree                                   \n",
       "2006 graduate   176   54057.266499  40960.4250\n",
       "2008 graduate   134  109567.882773  47351.5875\n",
       "2010 graduate   155   47398.579962  45804.1500"
      ]
     },
     "execution_count": 18,
     "metadata": {},
     "output_type": "execute_result"
    }
   ],
   "source": [
    "df_graduate = df[df['degree'] == 'graduate']\n",
    "# observed=True instructs pandas to ignore categories\n",
    "# without any observations\n",
    "df_graduate.groupby(['year', 'degree'], observed=True)['realrinc2020'].agg(['size', 'mean', 'median'])"
   ]
  },
  {
   "cell_type": "markdown",
   "metadata": {},
   "source": [
    "Now we run a sample of the data based on degree and transform non-numerical to numerical (categorical to nominal variables). But like in this case with many subcategories, it will be difficult to find any real meaning in the mean and median values, like here. "
   ]
  },
  {
   "cell_type": "code",
   "execution_count": 28,
   "metadata": {
    "scrolled": true
   },
   "outputs": [
    {
     "name": "stdout",
     "output_type": "stream",
     "text": [
      "51660    JUNIOR COLLEGE\n",
      "48620          bachelor\n",
      "53670       HIGH SCHOOL\n",
      "48914       HIGH SCHOOL\n",
      "50653       HIGH SCHOOL\n",
      "49141          bachelor\n",
      "50597       HIGH SCHOOL\n",
      "46832          bachelor\n",
      "Name: degree, dtype: category\n",
      "Categories (5, object): [LT HIGH SCHOOL < HIGH SCHOOL < JUNIOR COLLEGE < bachelor < graduate]\n"
     ]
    }
   ],
   "source": [
    "degree_sample = df.loc[df['degree'].notnull()].sample(8)['degree']\n",
    "print(degree_sample)\n"
   ]
  },
  {
   "cell_type": "code",
   "execution_count": 33,
   "metadata": {
    "scrolled": false
   },
   "outputs": [
    {
     "name": "stdout",
     "output_type": "stream",
     "text": [
      "53721    4\n",
      "54681    2\n",
      "48845    2\n",
      "53042    5\n",
      "54747    2\n",
      "51524    2\n",
      "49933    4\n",
      "47022    1\n",
      "Name: degree, dtype: int64\n",
      "Mean: 2.75\n",
      "Median: 2.0\n"
     ]
    }
   ],
   "source": [
    "degree_sample = df.loc[df['degree'].notnull()].sample(8)['degree']\n",
    "degree_sample = degree_sample.replace(['LT HIGH SCHOOL', 'HIGH SCHOOL','JUNIOR COLLEGE', 'bachelor','graduate'], [1, 2, 3, 4, 5])\n",
    "print(degree_sample)\n",
    "\n",
    "print(\"Mean:\", degree_sample.mean())\n",
    "print(\"Median:\", degree_sample.median())"
   ]
  },
  {
   "cell_type": "markdown",
   "metadata": {},
   "source": [
    "The groupby provides better insight into these categories for degree and political views. Where the second one shows more interesting results. Where we see that those on with bachelors and extreme poltical views on both sides have relatively close incomes. Yet, that is not the same for graduate, income actual increases as the poltical views go towards extremely conservative. "
   ]
  },
  {
   "cell_type": "code",
   "execution_count": 35,
   "metadata": {
    "scrolled": false
   },
   "outputs": [
    {
     "data": {
      "text/plain": [
       "degree\n",
       "LT HIGH SCHOOL    11970.0\n",
       "HIGH SCHOOL       16196.0\n",
       "JUNIOR COLLEGE    18494.0\n",
       "bachelor          30716.0\n",
       "graduate          50651.0\n",
       "Name: realrinc2020, dtype: float64"
      ]
     },
     "execution_count": 35,
     "metadata": {},
     "output_type": "execute_result"
    }
   ],
   "source": [
    "df.groupby('degree')['realrinc2020'].mad().round()"
   ]
  },
  {
   "cell_type": "code",
   "execution_count": 36,
   "metadata": {},
   "outputs": [
    {
     "data": {
      "text/plain": [
       "degree    polviews            \n",
       "bachelor  EXTREMELY LIBERAL        44623.0\n",
       "          liberal                  25368.0\n",
       "          SLIGHTLY LIBERAL         18533.0\n",
       "          moderate                 24967.0\n",
       "          SLGHTLY CONSERVATIVE     45170.0\n",
       "          conservative             30585.0\n",
       "          EXTRMLY CONSERVATIVE     65195.0\n",
       "graduate  EXTREMELY LIBERAL        25014.0\n",
       "          liberal                  40249.0\n",
       "          SLIGHTLY LIBERAL         42881.0\n",
       "          moderate                 52674.0\n",
       "          SLGHTLY CONSERVATIVE     50100.0\n",
       "          conservative             87869.0\n",
       "          EXTRMLY CONSERVATIVE    104440.0\n",
       "Name: realrinc2020, dtype: float64"
      ]
     },
     "execution_count": 36,
     "metadata": {},
     "output_type": "execute_result"
    }
   ],
   "source": [
    "df_bachelor_or_more = df[df['degree'].isin(['bachelor', 'graduate'])]\n",
    "df_bachelor_or_more.groupby(['degree', 'polviews'], observed=True)['realrinc2020'].mad().round()"
   ]
  },
  {
   "cell_type": "markdown",
   "metadata": {},
   "source": [
    "The groupby here sohws that children for both degree types (bachelor and graduate) shows an interesting income increase at 5 children and goes down as the number of children increases. Again, this doesn't mean that if you have a lot of kids you earn more (causation doesnt mean correlation), but it is something for potential further evaluation. "
   ]
  },
  {
   "cell_type": "code",
   "execution_count": 39,
   "metadata": {
    "scrolled": true
   },
   "outputs": [
    {
     "data": {
      "text/plain": [
       "degree    childs\n",
       "bachelor  0.0        34921.0\n",
       "          1.0        40377.0\n",
       "          2.0        57697.0\n",
       "          3.0        58685.0\n",
       "          4.0        49615.0\n",
       "          5.0       109764.0\n",
       "          6.0        40383.0\n",
       "          7.0        69389.0\n",
       "graduate  0.0        53464.0\n",
       "          1.0        89643.0\n",
       "          2.0        71427.0\n",
       "          3.0        64716.0\n",
       "          4.0        75369.0\n",
       "          5.0       120367.0\n",
       "          6.0        50841.0\n",
       "Name: realrinc2020, dtype: float64"
      ]
     },
     "execution_count": 39,
     "metadata": {},
     "output_type": "execute_result"
    }
   ],
   "source": [
    "df_bachelor_or_more.groupby(['degree', 'childs'], observed=True)['realrinc2020'].mean().round()"
   ]
  },
  {
   "cell_type": "markdown",
   "metadata": {},
   "source": [
    "This group comparison is an interesting view of the categories of the levels of education and looking at the respondents within groups. Then a created ratio of observed. So we get 2 respondents are in group1, and group2 and group3 are both 5 respondents. The ratios show, like a percentage, the higher ratio more representation from that group in the sample taken.\n",
    "\n",
    "This allows for tempering of the kind of statements can make with this sample. "
   ]
  },
  {
   "cell_type": "code",
   "execution_count": 40,
   "metadata": {},
   "outputs": [
    {
     "name": "stdout",
     "output_type": "stream",
     "text": [
      "[2, 5, 5]\n",
      "[0.25, 0.625, 0.625]\n"
     ]
    }
   ],
   "source": [
    "group1 = ['high school', 'high school', 'high school', 'high school', 'high school',\n",
    "          'high school', 'bachelor', 'bachelor']\n",
    "group2 = ['lt high school', 'lt high school', 'lt high school', 'lt high school',\n",
    "          'high school', 'junior college', 'bachelor', 'graduate']\n",
    "group3 = ['lt high school', 'lt high school', 'high school', 'high school',\n",
    "          'junior college', 'junior college', 'bachelor', 'graduate']\n",
    "\n",
    "# calculate the number of unique values in each group\n",
    "print([len(set(group)) for group in [group1, group2, group3]])\n",
    "# calculate the ratio of observed categories to total observations\n",
    "print([len(set(group)) / len(group) for group in [group1, group2, group3]])"
   ]
  },
  {
   "cell_type": "code",
   "execution_count": null,
   "metadata": {},
   "outputs": [],
   "source": []
  }
 ],
 "metadata": {
  "interpreter": {
   "hash": "1e5a1de8262f0e9d1487335168cc67bdb3373dee2cd3d5c339b458468358fbed"
  },
  "kernelspec": {
   "display_name": "Python 3",
   "language": "python",
   "name": "python3"
  },
  "language_info": {
   "codemirror_mode": {
    "name": "ipython",
    "version": 3
   },
   "file_extension": ".py",
   "mimetype": "text/x-python",
   "name": "python",
   "nbconvert_exporter": "python",
   "pygments_lexer": "ipython3",
   "version": "3.8.3"
  }
 },
 "nbformat": 4,
 "nbformat_minor": 2
}
