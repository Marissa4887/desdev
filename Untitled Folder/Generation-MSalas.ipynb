{
 "cells": [
  {
   "cell_type": "markdown",
   "metadata": {},
   "source": [
    "## Generation using Markovify\n",
    "Marissa Salas\n",
    "\n",
    "This process created a model senentce based on the text of the House of the Vampire. The result was \"Yet it was possible now to be in a more conversational manner.\" Next, using this model, all the texts were used to generate both a sentence (\"You are all supposed to have a quality impossible to smother.\") and a few paragraphs. And since all the texts have the Gutenberg header text, this sentence seemed particarly funny, \"Do not charge a fee or distribute a Project Gutenberg-tm License for all its original silence.\" \n",
    "\n",
    "\n"
   ]
  },
  {
   "cell_type": "code",
   "execution_count": 2,
   "metadata": {},
   "outputs": [],
   "source": [
    "# You'll need to run conda install markovify first\n",
    "# Inspired by: https://colab.research.google.com/drive/1szxfgCr-71Qudoh_erKEESSLOhU9Fhh7?usp=sharing\n",
    "\n",
    "import markovify\n",
    "import random"
   ]
  },
  {
   "cell_type": "code",
   "execution_count": 10,
   "metadata": {},
   "outputs": [],
   "source": [
    "with open(\"texts/7_House_of_the_Vampire.txt\",encoding='utf-8') as f:\n",
    "    text = f.read()"
   ]
  },
  {
   "cell_type": "code",
   "execution_count": 11,
   "metadata": {},
   "outputs": [],
   "source": [
    "text_model = markovify.Text(text)"
   ]
  },
  {
   "cell_type": "code",
   "execution_count": 12,
   "metadata": {},
   "outputs": [
    {
     "name": "stdout",
     "output_type": "stream",
     "text": [
      "Yet it was possible now to be in a more conversational manner.\n"
     ]
    }
   ],
   "source": [
    "print( text_model.make_sentence() )"
   ]
  },
  {
   "cell_type": "code",
   "execution_count": 13,
   "metadata": {},
   "outputs": [
    {
     "name": "stdout",
     "output_type": "stream",
     "text": [
      "10_Imre.txt\n",
      "1_An_Anglo-American_Alliance.txt\n",
      "2_An_Account_of_the_Ladies_of_Llangollen.txt\n",
      "3_Regiment_of_Women.txt\n",
      "4_Colin_II.txt\n",
      "5_Bertram_Copes_Year.txt\n",
      "6_Varney_the_Vampire.txt\n",
      "7_House_of_the_Vampire.txt\n",
      "8_History_of_Sir_Richard_Calmady.txt\n",
      "9_The Green_Carnation.txt\n"
     ]
    }
   ],
   "source": [
    "import os\n",
    "path = 'texts/'\n",
    "with os.scandir(path) as entries:\n",
    "    for entry in entries:\n",
    "        print(entry.name)\n",
    "        f = open(f'{path}\\{entry.name}',encoding='utf-8')\n",
    "        text += f.read()"
   ]
  },
  {
   "cell_type": "code",
   "execution_count": 14,
   "metadata": {},
   "outputs": [
    {
     "name": "stdout",
     "output_type": "stream",
     "text": [
      "You are all supposed to have a quality impossible to smother.\n"
     ]
    }
   ],
   "source": [
    "text_model = markovify.Text(text)\n",
    "print( text_model.make_sentence() )"
   ]
  },
  {
   "cell_type": "code",
   "execution_count": 15,
   "metadata": {},
   "outputs": [
    {
     "name": "stdout",
     "output_type": "stream",
     "text": [
      "A few yards in front of him at his watch. People were tiring of their peculiar application. But now, to the undoing of the vampyre, he, too, fell to stroking it once more for me. Esmé observed his friend's plight had led in times of peace, the hour was Raymond, a dark bay, by the soldiery were likely to call for a close and leisurely survey of the troco-ground, and was filled with vague uneasiness and had so far succeeded in putting it into the passage. I thank you very deeply for the future of the smoking-room. 1.E.5. Do not charge a fee or distribute a Project Gutenberg-tm License for all its original silence. It rolled at the sky, clasping hands overhead, the ground was sopping, but it has fulfilled its purpose, hasn't it? Enter a Child of Promise who, predestined to bear as well as it was by the last shovel-full of earth midway between here and now there was a terrible state. \n",
      "\n",
      "Miss Durand was quite calm too. He cast a full consciousness of it, given back to the first landing, he turned his strength was not, in fact, with the gimlet-eyed secretary. To complete the group just a radiant piece of bacon she had always been flushed in his eyes wide with some overwhelming trouble of a pistol, and a vigorous defence, and employed them, with an irremediable misfortune! Because, of course, we hope that you may demand a refund in writing from the discovery of a high-spirited, vigorous fellow with a long-drawn, fluttering sigh, Katherine looked up at the same unspeakable sense of Stanier because it was, it had never come a listlessness and languor of his life--this I could say to the gray balustrade and the beat of his arms. Still, he had come here and there, too, in the legend and its inexplicable yet obvious unhappiness. When they heard it. Indeed, saving the smallest and meanest of them lived at 1636 Cedar Street. But in the medium, if not in her armour, and somewhat distasteful duty. \n",
      "\n",
      "He can never approach you. They are monotonous dwellers in cities spend in transportation conveyances that must be allowed to choose between Dartmoor and the deep impatience of his deformity worked upon him than he was the day returned upon Honoria St. Quentin's death. The landscape lay drowned in the roof gave vent to a man she's afraid of, and impossible to shut the door. \n",
      "\n",
      "She moved uneasily in her throat, paralysing her mind. He paused, holding up the door-way, but the latter stood in her left hand, and by him once again, flapped duskily about him, and he left the buttercups to Nicholas Nye and hurried away. But, about half-way down the room, and there tried to speak; have stopped him, but who was an unscrupulous woman, in that spiritual fulfilment of prophecy, offering, as it was meant by Jack Pringle, in some mysterious injury which she spoke. The individual may get out of his Paganism to tamper with popular prejudices; no man better. \n",
      "\n",
      "\n"
     ]
    }
   ],
   "source": [
    "novel = ''\n",
    "while (len( novel.split(\" \")) < 500):\n",
    "  for i in range(random.randrange(3,9)):\n",
    "    novel += text_model.make_sentence() + \" \"\n",
    "  novel += \"\\n\\n\"\n",
    "    # print(text_model.make_sentence()\n",
    "\n",
    "print(novel)"
   ]
  },
  {
   "cell_type": "code",
   "execution_count": null,
   "metadata": {},
   "outputs": [],
   "source": []
  }
 ],
 "metadata": {
  "interpreter": {
   "hash": "af29365a973779c9560d56e09334d0c9d23342aad144db3e18bca9328584f409"
  },
  "kernelspec": {
   "display_name": "Python 3",
   "language": "python",
   "name": "python3"
  },
  "language_info": {
   "codemirror_mode": {
    "name": "ipython",
    "version": 3
   },
   "file_extension": ".py",
   "mimetype": "text/x-python",
   "name": "python",
   "nbconvert_exporter": "python",
   "pygments_lexer": "ipython3",
   "version": "3.8.3"
  }
 },
 "nbformat": 4,
 "nbformat_minor": 2
}
