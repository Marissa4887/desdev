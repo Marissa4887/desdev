{
 "cells": [
  {
   "cell_type": "markdown",
   "metadata": {},
   "source": [
    "# Exercise Seven: Textual Analysis\n",
    "\n",
    "Marissa Salas\n",
    "\n"
   ]
  },
  {
   "cell_type": "markdown",
   "metadata": {},
   "source": [
    "## Import of three texts that are known for their examination of the \"other\" or how one group often views another as not belonging, being threatening, or as being different in some fundamental way for comparision. Bram Stoker's Dracula, Joseph Conrad's Heart of Darkness, and  Carmilla by Joseph Sheridan Le Fanu.\n"
   ]
  },
  {
   "cell_type": "code",
   "execution_count": 9,
   "metadata": {},
   "outputs": [
    {
     "name": "stdout",
     "output_type": "stream",
     "text": [
      "Heart of Darkness\n",
      "by Joseph Conrad\n",
      "Contents\n",
      "I\n",
      "II\n",
      "III\n",
      "I\n",
      "The Nellie, a cruising yawl, swung to her anc\n"
     ]
    }
   ],
   "source": [
    "import pandas as pd\n",
    "\n",
    "import nltk\n",
    "import nltk.tokenize\n",
    "\n",
    "# download the most recent punkt package\n",
    "nltk.download('punkt', quiet=True)\n",
    "\n",
    "corpus = [\"dracula.txt\",\"heartofdarkness.txt\",\"carmilla.txt\"]\n",
    "titles = [\"Dracula\", \"Heart of Darkness\", \"Carmilla\"]\n",
    "documents = []\n",
    "for url in corpus:\n",
    "    f = open(url, encoding='utf-8')\n",
    "    text = f.read()\n",
    "    documents.append(text)\n",
    "print(documents[1][0:100])\n"
   ]
  },
  {
   "cell_type": "markdown",
   "metadata": {},
   "source": [
    "## Preprocessing\n",
    "\n",
    "The import of regular expressions (re) allows the check of punctuation markers. \n",
    "Next the Preprocess_text function, which transforms the string into a list of tokens for creation of a tokenized matrix."
   ]
  },
  {
   "cell_type": "code",
   "execution_count": 10,
   "metadata": {},
   "outputs": [],
   "source": [
    "import re\n",
    "\n",
    "\n",
    "PUNCT_RE = re.compile(r'[^\\w\\s]+$')\n",
    "\n",
    "\n",
    "def is_punct(string):\n",
    "    \"\"\"Check if STRING is a punctuation marker or a sequence of\n",
    "       punctuation markers.\n",
    "    \"\"\"\n",
    "    return PUNCT_RE.match(string) is not None"
   ]
  },
  {
   "cell_type": "code",
   "execution_count": 11,
   "metadata": {},
   "outputs": [],
   "source": [
    "#Preprocess the text and create a tokenized corpus from the text of the imported documents.\n",
    "\n",
    "def preprocess_text(text, language, lowercase=True):\n",
    "    \"\"\"Preprocess a text.\n",
    "\n",
    "    Perform a text preprocessing procedure, which transforms a string\n",
    "    object into a list of word tokens without punctuation markers.\n",
    "\n",
    "    \"\"\"\n",
    "    if lowercase:\n",
    "        text = text.lower()\n",
    "    tokens = nltk.tokenize.word_tokenize(text, language=language)\n",
    "    tokens = [token for token in tokens if not is_punct(token)]\n",
    "    return tokens\n"
   ]
  },
  {
   "cell_type": "markdown",
   "metadata": {},
   "source": [
    "## Create Matrix\n",
    "A tokenized matrix allows for a comparative textual analysis across the full set of documents."
   ]
  },
  {
   "cell_type": "code",
   "execution_count": 12,
   "metadata": {},
   "outputs": [
    {
     "name": "stdout",
     "output_type": "stream",
     "text": [
      "flutter\n"
     ]
    }
   ],
   "source": [
    "#Create a document term matrix to enable comparative textual analysis across the full set of documents\n",
    "tokenized = []\n",
    "for text in documents:\n",
    "    tokenized.append(preprocess_text(text, \"english\"))\n",
    "\n",
    "print(tokenized[1][22])\n"
   ]
  },
  {
   "cell_type": "markdown",
   "metadata": {},
   "source": [
    "## Chart Comparisons\n",
    "\n",
    "Using the following function to find words to select for charting but also using words from a fancy bag of words in a another file, two chart comparisions were made. "
   ]
  },
  {
   "cell_type": "code",
   "execution_count": 23,
   "metadata": {},
   "outputs": [
    {
     "name": "stdout",
     "output_type": "stream",
     "text": [
      "['is', 'it', 'its', 'jonathan', 'just', 'keep', 'kind', 'knew', 'know', 'kurtz', 'last', 'left', 'let', 'life', 'light', 'like', 'little', 'long', 'look', 'looked', 'looking', 'love', 'lucy', 'made', 'make', 'man', 'many', 'may', 'me', 'men', 'might', 'mina', 'mind', 'moment', 'more', 'morning', 'most', 'mr.', 'much', 'must', 'my', 'myself', 'near', 'never', 'night', 'no', 'not', 'nothing', 'now', 'of', 'off', 'oh', 'old', 'on', 'once', 'one', 'only', 'open', 'opened', 'or', 'other', 'others', 'our', 'out', 'over', 'own', 'place', 'poor', 'professor', 'project', 'put', 'quite', 'rest', 'right', 'room', 'round', 's', 'said', 'same', 'saw', 'say', 'see', 'seemed', 'seen', 'seward', 'shall', 'she', 'should', 'side', 'since', 'sleep', 'so', 'some', 'something', 'soon', 'still', 'stood', 'strange', 'such', 't']\n"
     ]
    }
   ],
   "source": [
    "#Chart at least one comparison between the documents, using word frequency to map the text\n",
    "def extract_vocabulary(tokenized_corpus, min_count=1, max_count=float('inf')):\n",
    "    \"\"\"Extract a vocabulary from a tokenized corpus.\n",
    "\n",
    "    Arguments:\n",
    "        tokenized_corpus (list): a tokenized corpus represented, list\n",
    "            of lists of strings.\n",
    "        min_count (int, optional): the minimum occurrence count of a\n",
    "            vocabulary item in the corpus.\n",
    "        max_count (int, optional): the maximum occurrence count of a\n",
    "            vocabulary item in the corpus. Defaults to inf.\n",
    "\n",
    "    Returns:\n",
    "        list: An alphabetically ordered list of unique words in the\n",
    "            corpus, of which the frequencies adhere to the specified\n",
    "            minimum and maximum count.\n",
    "\n",
    "    Examples:\n",
    "        >>> corpus = [['the', 'man', 'love', 'man', 'the'],\n",
    "                      ['the', 'love', 'book', 'wise', 'drama'],\n",
    "                      ['a', 'story', 'book', 'drama']]\n",
    "        >>> extract_vocabulary(corpus, min_count=2)\n",
    "        ['book', 'drama', 'love', 'man', 'the']\n",
    "\n",
    "    \"\"\"\n",
    "    vocabulary = collections.Counter()\n",
    "    for document in tokenized_corpus:\n",
    "        vocabulary.update(document)\n",
    "    vocabulary = {word for word, count in vocabulary.items()\n",
    "                  if count >= min_count and count <= max_count}\n",
    "    return sorted(vocabulary)\n",
    "import collections\n",
    "vocabulary = extract_vocabulary(tokenized, min_count=100)\n",
    "print(vocabulary[100:200])\n"
   ]
  },
  {
   "cell_type": "markdown",
   "metadata": {},
   "source": [
    "## Result and Selection\n",
    "Selecting two words from this list Life and Nothing are frequent enough for comparison. These words also seem likely to be interesting to view since we are looking at \"otherness\" between these texts my assumption is that these terms will be high in use between these texts. "
   ]
  },
  {
   "cell_type": "code",
   "execution_count": 24,
   "metadata": {
    "scrolled": true
   },
   "outputs": [
    {
     "name": "stdout",
     "output_type": "stream",
     "text": [
      "Life: [139  32  29]\n",
      "Nothing: [112  39  30]\n"
     ]
    }
   ],
   "source": [
    "\n",
    "\n",
    "def corpus2dtm(tokenized_corpus, vocabulary):\n",
    "    \"\"\"Transform a tokenized corpus into a document-term matrix.\n",
    "\n",
    "    Arguments:\n",
    "        tokenized_corpus (list): a tokenized corpus as a list of\n",
    "        lists of strings. vocabulary (list): An list of unique words.\n",
    "\n",
    "    Returns:\n",
    "        list: A list of lists representing the frequency of each term\n",
    "              in `vocabulary` for each document in the corpus.\n",
    "\n",
    "    Examples:\n",
    "        >>> tokenized_corpus = [['the', 'man', 'man', 'smart'],\n",
    "                                ['a', 'the', 'man' 'love'],\n",
    "                                ['love', 'book', 'journey']]\n",
    "        >>> vocab = ['book', 'journey', 'man', 'love']\n",
    "        >>> corpus2dtm(tokenized_corpus, vocabulary)\n",
    "        [[0, 0, 2, 0], [0, 0, 1, 1], [1, 1, 0, 1]]\n",
    "\n",
    "    \"\"\"\n",
    "    document_term_matrix = []\n",
    "    for document in tokenized_corpus:\n",
    "        document_counts = collections.Counter(document)\n",
    "        row = [document_counts[word] for word in vocabulary]\n",
    "        document_term_matrix.append(row)\n",
    "    return document_term_matrix\n",
    "\n",
    "import numpy as np\n",
    "\n",
    "document_term_matrix = np.array(corpus2dtm(tokenized, vocabulary))\n",
    "girl_id = vocabulary.index('life')\n",
    "boy_id = vocabulary.index('nothing')\n",
    "\n",
    "girl_counts = document_term_matrix[:, girl_id]\n",
    "boy_counts = document_term_matrix[:, boy_id]\n",
    "print(\"Life: \" + str(girl_counts))\n",
    "print(\"Nothing: \" + str(boy_counts))\n"
   ]
  },
  {
   "cell_type": "markdown",
   "metadata": {},
   "source": [
    "## Plot\n",
    "\n",
    "The words selected are plotted in a bar chart (Life and Nothing) including second set of words from the fancy word bag document (Me and Him)."
   ]
  },
  {
   "cell_type": "code",
   "execution_count": 15,
   "metadata": {},
   "outputs": [
    {
     "data": {
      "image/png": "[encoded data removed]",
      "text/plain": [
       "<Figure size 432x288 with 1 Axes>"
      ]
     },
     "metadata": {
      "needs_background": "light"
     },
     "output_type": "display_data"
    }
   ],
   "source": [
    "import matplotlib.pyplot as plt\n",
    "\n",
    "x = np.arange(len(titles))\n",
    "width = 0.3\n",
    "\n",
    "fig, ax = plt.subplots()\n",
    "rects1 = ax.bar(x - width/2, girl_counts, width, label='Me')\n",
    "rects2 = ax.bar(x + width/2, boy_counts, width, label='Him')\n",
    "\n",
    "ax.set_ylabel('Word Count')\n",
    "ax.set_title('Word Frequency')\n",
    "ax.set_xticks(x)\n",
    "ax.set_xticklabels(titles)\n",
    "ax.legend()\n",
    "\n",
    "fig.tight_layout()\n",
    "\n",
    "plt.show()"
   ]
  },
  {
   "cell_type": "code",
   "execution_count": 25,
   "metadata": {},
   "outputs": [
    {
     "data": {
      "image/png": "[encoded data removed]",
      "text/plain": [
       "<Figure size 432x288 with 1 Axes>"
      ]
     },
     "metadata": {
      "needs_background": "light"
     },
     "output_type": "display_data"
    }
   ],
   "source": [
    "import matplotlib.pyplot as plt\n",
    "\n",
    "x = np.arange(len(titles))\n",
    "width = 0.3\n",
    "\n",
    "fig, ax = plt.subplots()\n",
    "rects1 = ax.bar(x - width/2, girl_counts, width, label='Life')\n",
    "rects2 = ax.bar(x + width/2, boy_counts, width, label='Nothing')\n",
    "\n",
    "ax.set_ylabel('Word Count')\n",
    "ax.set_title('Life & Nothing Word Frequency')\n",
    "ax.set_xticks(x)\n",
    "ax.set_xticklabels(titles)\n",
    "ax.legend()\n",
    "\n",
    "fig.tight_layout()\n",
    "\n",
    "plt.show()"
   ]
  },
  {
   "cell_type": "markdown",
   "metadata": {},
   "source": [
    "## Euclidean distance\n",
    "\n",
    "First the creation of arrays based on two key words (Life and Nothing)\n",
    "Later the calucuation of Euclidean distance."
   ]
  },
  {
   "cell_type": "code",
   "execution_count": 26,
   "metadata": {},
   "outputs": [],
   "source": [
    "dracula = np.array([girl_counts[0], boy_counts[0]])\n",
    "heartofdarkness = np.array([girl_counts[1], boy_counts[1]])\n",
    "camilla = np.array([girl_counts[2], boy_counts[2]])"
   ]
  },
  {
   "cell_type": "code",
   "execution_count": 27,
   "metadata": {},
   "outputs": [
    {
     "name": "stdout",
     "output_type": "stream",
     "text": [
      "dracula - heartofdarkness: 129.53\n",
      "dracula - camilla: 137.20\n",
      "heartofdarkness - camilla: 9.49\n"
     ]
    }
   ],
   "source": [
    "#Calculate the Euclidean distance between the documents, using two key words as the point of comparison\n",
    "\n",
    "def euclidean_distance(a, b):\n",
    "    \"\"\"Compute the Euclidean distance between two vectors.\n",
    "\n",
    "    Note: ``numpy.linalg.norm(a - b)`` performs the\n",
    "    same calculation using a slightly faster method.\n",
    "\n",
    "    Arguments:\n",
    "        a (numpy.ndarray): a vector of floats or ints.\n",
    "        b (numpy.ndarray): a vector of floats or ints.\n",
    "\n",
    "    Returns:\n",
    "        float: The euclidean distance between vector a and b.\n",
    "\n",
    "    Examples:\n",
    "        >>> import numpy as np\n",
    "        >>> a = np.array([1, 4, 2, 8])\n",
    "        >>> b = np.array([2, 1, 4, 7])\n",
    "        >>> round(euclidean_distance(a, b), 2)\n",
    "        3.87\n",
    "\n",
    "    \"\"\"\n",
    "    return np.sqrt(np.sum((a - b) ** 2))\n",
    "\n",
    "draculaheartofdarkness = euclidean_distance(dracula, heartofdarkness)\n",
    "print(f'dracula - heartofdarkness: {draculaheartofdarkness:.2f}')\n",
    "\n",
    "draculacamilla = euclidean_distance(dracula, camilla)\n",
    "print(f'dracula - camilla: {draculacamilla:.2f}')\n",
    "\n",
    "heartofdarknesscamilla = euclidean_distance(heartofdarkness, camilla)\n",
    "print(f'heartofdarkness - camilla: {heartofdarknesscamilla:.2f}')"
   ]
  },
  {
   "cell_type": "markdown",
   "metadata": {},
   "source": [
    "# Summary\n",
    "\n",
    "The results show there is a better comparisions of texts using the Extract_vocabulary Function (Life and Nothing) versus the Fancy bag of words (Me and Him). \n",
    "\n",
    "The Life and Nothing chart shows there is use of these words across texts but also shows how dissimilar Camilla is to the other two texts. Selecting other words from the Fancy bag of words,  Me and Him, shows a lower representation across the texts. \n",
    "\n",
    "In comparing the words Life and Nothing, using Euclidean distance, we can see there is a shorter distance between Dracula and Heart of Darkness. Camilla is the furthest apart from both texts. \n"
   ]
  },
  {
   "cell_type": "markdown",
   "metadata": {},
   "source": [
    "## As a bonus challenge I attempted a fancy word bag and used the frequency to select the words Me and Him to do another comparision chart. The link is included to this notebook."
   ]
  }
 ],
 "metadata": {
  "kernelspec": {
   "display_name": "Python 3",
   "language": "python",
   "name": "python3"
  },
  "language_info": {
   "codemirror_mode": {
    "name": "ipython",
    "version": 3
   },
   "file_extension": ".py",
   "mimetype": "text/x-python",
   "name": "python",
   "nbconvert_exporter": "python",
   "pygments_lexer": "ipython3",
   "version": "3.8.3"
  }
 },
 "nbformat": 4,
 "nbformat_minor": 2
}
