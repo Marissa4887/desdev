{
 "cells": [
  {
   "cell_type": "markdown",
   "metadata": {},
   "source": [
    "## Topic Modeling\n",
    "Marissa Salas\n",
    "\n",
    "This is the topic modeling of the 10 documents I imported for the previous exercise, which cover lesbian, gay, and vampire novels. \n"
   ]
  },
  {
   "cell_type": "code",
   "execution_count": 2,
   "metadata": {},
   "outputs": [
    {
     "name": "stdout",
     "output_type": "stream",
     "text": [
      "10\n",
      "['texts/10_Imre.txt', 'texts/1_An_Anglo-American_Alliance.txt', 'texts/2_An_Account_of_the_Ladies_of_Llangollen.txt', 'texts/3_Regiment_of_Women.txt', 'texts/4_Colin_II.txt', 'texts/5_Bertram_Copes_Year.txt', 'texts/6_Varney_the_Vampire.txt', 'texts/7_House_of_the_Vampire.txt', 'texts/8_History_of_Sir_Richard_Calmady.txt', 'texts/9_The Green_Carnation.txt']\n"
     ]
    }
   ],
   "source": [
    "import pandas as pd\n",
    "import os\n",
    "import numpy as np\n",
    "\n",
    "documents = []\n",
    "path = 'texts/'\n",
    "\n",
    "filenames=sorted([os.path.join(path, fn) for fn in os.listdir(path)])\n",
    "print(len(filenames)) # count files in corpus\n",
    "print(filenames[:10]) # print names of 1st ten files in corpus\n",
    "\n"
   ]
  },
  {
   "cell_type": "code",
   "execution_count": 3,
   "metadata": {},
   "outputs": [],
   "source": [
    "import sklearn.feature_extraction.text as text\n",
    "\n",
    "vectorizer=text.CountVectorizer(input='filename', stop_words=\"english\", min_df=1)\n",
    "dtm=vectorizer.fit_transform(filenames).toarray() # defines document term matrix\n",
    "\n",
    "vocab=np.array(vectorizer.get_feature_names())\n"
   ]
  },
  {
   "cell_type": "markdown",
   "metadata": {},
   "source": [
    "## Count vectorizer converts the documents to matrix of token/word counts. Document size (10) by dictionary size (28585) where the number of tokens/word counts is 450237\n"
   ]
  },
  {
   "cell_type": "code",
   "execution_count": 4,
   "metadata": {},
   "outputs": [
    {
     "name": "stdout",
     "output_type": "stream",
     "text": [
      "Shape of document-term matrix: (10, 28585). Number of tokens 450237\n"
     ]
    }
   ],
   "source": [
    "print(f'Shape of document-term matrix: {dtm.shape}. '\n",
    "      f'Number of tokens {dtm.sum()}')"
   ]
  },
  {
   "cell_type": "code",
   "execution_count": 5,
   "metadata": {},
   "outputs": [],
   "source": [
    "import sklearn.decomposition as decomposition\n",
    "model = decomposition.LatentDirichletAllocation(\n",
    "    n_components=100, learning_method='online', random_state=1)"
   ]
  },
  {
   "cell_type": "code",
   "execution_count": 6,
   "metadata": {},
   "outputs": [],
   "source": [
    "document_topic_distributions = model.fit_transform(dtm)"
   ]
  },
  {
   "cell_type": "code",
   "execution_count": 7,
   "metadata": {},
   "outputs": [],
   "source": [
    "vocabulary = vectorizer.get_feature_names()\n",
    "# (# topics, # vocabulary)\n",
    "assert model.components_.shape == (100, len(vocabulary))\n",
    "# (# documents, # topics)\n",
    "assert document_topic_distributions.shape == (dtm.shape[0], 100)"
   ]
  },
  {
   "cell_type": "markdown",
   "metadata": {},
   "source": [
    "## The LDA method that tells us the type of distribution and using probabilities what likely distributions are going to be seen.The random sample represents the topic distribution the topic mix of each of my 10 documents and is placed into a dataframe.\n"
   ]
  },
  {
   "cell_type": "code",
   "execution_count": 8,
   "metadata": {},
   "outputs": [
    {
     "name": "stdout",
     "output_type": "stream",
     "text": [
      "               000        10       100     101st       103       104  \\\n",
      "Topic 0   0.251421  0.196477  0.193873  0.184596  0.240954  0.189601   \n",
      "Topic 1   0.234561  0.244933  0.203096  0.206711  0.206061  0.181801   \n",
      "Topic 2   0.226948  0.230698  0.209283  0.214513  0.192838  0.203798   \n",
      "Topic 3   0.202547  0.212175  0.187632  0.172805  0.176331  0.180010   \n",
      "Topic 4   0.213354  0.195289  0.184702  0.186213  0.225441  0.238114   \n",
      "...            ...       ...       ...       ...       ...       ...   \n",
      "Topic 95  0.213387  0.197675  0.200741  0.208850  0.182638  0.212794   \n",
      "Topic 96  0.246726  0.184389  0.195493  0.213641  0.184635  0.192699   \n",
      "Topic 97  0.147301  0.173615  0.196496  0.226503  0.199024  0.210221   \n",
      "Topic 98  0.198749  0.202680  0.231706  0.246384  0.206840  0.217955   \n",
      "Topic 99  0.193047  0.194192  0.235813  0.195491  0.258275  0.203814   \n",
      "\n",
      "               108       109        11       110  ...  æsthetic  æsthetically  \\\n",
      "Topic 0   0.234248  0.166783  0.229391  0.183574  ...  0.220959      0.214331   \n",
      "Topic 1   0.221516  0.197446  0.202949  0.195694  ...  0.170708      0.163073   \n",
      "Topic 2   0.209248  0.180036  0.207350  0.185295  ...  0.212126      0.181508   \n",
      "Topic 3   0.193722  0.217123  0.163806  0.207353  ...  0.193305      0.234493   \n",
      "Topic 4   0.204855  0.188036  0.223703  0.231910  ...  0.224494      0.194240   \n",
      "...            ...       ...       ...       ...  ...       ...           ...   \n",
      "Topic 95  0.193134  0.198616  0.182852  0.201817  ...  0.222596      0.222670   \n",
      "Topic 96  0.217403  0.209149  0.235376  0.199133  ...  0.209277      0.190554   \n",
      "Topic 97  0.222892  0.230347  0.194386  0.167274  ...  0.192697      0.233992   \n",
      "Topic 98  0.209174  0.206227  0.221236  0.207293  ...  0.181810      0.246756   \n",
      "Topic 99  0.175438  0.206059  0.236732  0.198065  ...  0.205969      0.180406   \n",
      "\n",
      "          æstheticism        ça        çi  çicatrice_        én     était  \\\n",
      "Topic 0      0.231300  0.205969  0.247949    0.244833  0.216053  0.198729   \n",
      "Topic 1      0.212766  0.236739  0.208658    0.199256  0.203217  0.199022   \n",
      "Topic 2      0.203007  0.229051  0.202368    0.212462  0.218733  0.182759   \n",
      "Topic 3      0.207524  0.212572  0.190674    0.208953  0.235121  0.193687   \n",
      "Topic 4      0.189304  0.197066  0.217480    0.180548  0.230253  0.189615   \n",
      "...               ...       ...       ...         ...       ...       ...   \n",
      "Topic 95     0.215419  0.238923  0.220921    0.162369  0.205538  0.166495   \n",
      "Topic 96     0.204043  0.194600  0.190518    0.205955  0.223673  0.167274   \n",
      "Topic 97     0.202802  0.165784  0.195770    0.211623  0.225683  0.205461   \n",
      "Topic 98     0.204542  0.176157  0.221319    0.172699  0.201709  0.201865   \n",
      "Topic 99     0.203874  0.184090  0.235250    0.166675  0.200819  0.162837   \n",
      "\n",
      "          éternelle      être  \n",
      "Topic 0    0.195299  0.188106  \n",
      "Topic 1    0.211036  0.219131  \n",
      "Topic 2    0.184220  0.193634  \n",
      "Topic 3    0.202749  0.175331  \n",
      "Topic 4    0.207620  0.219206  \n",
      "...             ...       ...  \n",
      "Topic 95   0.195015  0.177194  \n",
      "Topic 96   0.218752  0.217265  \n",
      "Topic 97   0.203741  0.179891  \n",
      "Topic 98   0.209768  0.211949  \n",
      "Topic 99   0.237292  0.195816  \n",
      "\n",
      "[100 rows x 28585 columns]\n"
     ]
    }
   ],
   "source": [
    "topic_names = [f'Topic {k}' for k in range(100)]\n",
    "topic_word_distributions = pd.DataFrame(\n",
    "    model.components_, columns=vocabulary, index=topic_names)\n",
    "print(topic_word_distributions)"
   ]
  },
  {
   "cell_type": "markdown",
   "metadata": {},
   "source": [
    "## Then a random sample (word distribution) of the topic X where each topic is characterized by the words they are most strongly associated with and sorted by values with the top being the word \"said\"."
   ]
  },
  {
   "cell_type": "code",
   "execution_count": 9,
   "metadata": {
    "scrolled": false
   },
   "outputs": [
    {
     "data": {
      "text/plain": [
       "said       3.381307\n",
       "like       1.428596\n",
       "know       1.324972\n",
       "richard    1.304993\n",
       "little     1.250397\n",
       "man        1.234880\n",
       "came       1.209359\n",
       "don        1.188702\n",
       "young      1.146999\n",
       "oh         1.116655\n",
       "think      1.082345\n",
       "time       1.073412\n",
       "just       1.063646\n",
       "great      1.058845\n",
       "long       1.021526\n",
       "say        0.993960\n",
       "room       0.979876\n",
       "thought    0.977918\n",
       "Name: Topic 1, dtype: float64"
      ]
     },
     "execution_count": 9,
     "metadata": {},
     "output_type": "execute_result"
    }
   ],
   "source": [
    "topic_word_distributions.loc['Topic 1'].sort_values(ascending=False).head(18)"
   ]
  },
  {
   "cell_type": "markdown",
   "metadata": {},
   "source": [
    "## And the distribution of topics by documents."
   ]
  },
  {
   "cell_type": "code",
   "execution_count": 11,
   "metadata": {
    "scrolled": true
   },
   "outputs": [
    {
     "name": "stdout",
     "output_type": "stream",
     "text": [
      "        Topic 0       Topic 1       Topic 2       Topic 3       Topic 4  \\\n",
      "0  6.236358e-07  6.236358e-07  6.236358e-07  6.236358e-07  6.236358e-07   \n",
      "1  7.868440e-07  7.868440e-07  7.868440e-07  7.868440e-07  7.868440e-07   \n",
      "2  2.608242e-06  2.608242e-06  2.608242e-06  2.608242e-06  2.608242e-06   \n",
      "3  1.784217e-07  1.784217e-07  1.784217e-07  1.784217e-07  1.784217e-07   \n",
      "4  2.294052e-07  2.294052e-07  2.294052e-07  2.294052e-07  2.294052e-07   \n",
      "5  3.032508e-07  3.032508e-07  3.032508e-07  3.032508e-07  3.032508e-07   \n",
      "6  7.880531e-08  7.880531e-08  7.880531e-08  7.880531e-08  7.880531e-08   \n",
      "7  7.524454e-07  7.524454e-07  7.524454e-07  7.524454e-07  7.524454e-07   \n",
      "8  8.154944e-08  8.154944e-08  8.154944e-08  8.154944e-08  8.154944e-08   \n",
      "9  4.495392e-07  4.495392e-07  4.495392e-07  4.495392e-07  4.495392e-07   \n",
      "\n",
      "        Topic 5       Topic 6       Topic 7       Topic 8       Topic 9  ...  \\\n",
      "0  6.236358e-07  6.236358e-07  6.236358e-07  6.236358e-07  6.236358e-07  ...   \n",
      "1  7.868440e-07  7.868440e-07  7.868440e-07  7.868440e-07  7.868440e-07  ...   \n",
      "2  2.608242e-06  2.608242e-06  2.608242e-06  2.608242e-06  2.608242e-06  ...   \n",
      "3  1.784217e-07  1.784217e-07  1.784217e-07  1.784217e-07  1.784217e-07  ...   \n",
      "4  2.294052e-07  2.294052e-07  2.294052e-07  2.294052e-07  2.294052e-07  ...   \n",
      "5  3.032508e-07  3.032508e-07  3.032508e-07  3.032508e-07  3.032508e-07  ...   \n",
      "6  7.880531e-08  7.880531e-08  7.880531e-08  7.880531e-08  7.880531e-08  ...   \n",
      "7  7.524454e-07  7.524454e-07  7.524454e-07  7.524454e-07  7.524454e-07  ...   \n",
      "8  8.154944e-08  8.154944e-08  8.154944e-08  8.154944e-08  8.154944e-08  ...   \n",
      "9  4.495392e-07  4.495392e-07  4.495392e-07  4.495392e-07  4.495392e-07  ...   \n",
      "\n",
      "       Topic 90      Topic 91      Topic 92      Topic 93      Topic 94  \\\n",
      "0  6.236358e-07  6.236358e-07  6.236358e-07  6.236358e-07  6.236358e-07   \n",
      "1  7.868440e-07  7.868440e-07  7.868440e-07  7.868440e-07  7.868440e-07   \n",
      "2  2.608242e-06  2.608242e-06  2.608242e-06  2.608242e-06  2.608242e-06   \n",
      "3  1.784217e-07  1.784217e-07  1.784217e-07  1.784217e-07  1.784217e-07   \n",
      "4  2.294052e-07  2.294052e-07  2.294052e-07  2.294052e-07  2.294052e-07   \n",
      "5  3.032508e-07  3.032508e-07  3.032508e-07  3.032508e-07  3.032508e-07   \n",
      "6  7.880531e-08  7.880531e-08  7.880531e-08  7.880531e-08  7.880531e-08   \n",
      "7  7.524454e-07  7.524454e-07  7.524454e-07  7.524454e-07  7.524454e-07   \n",
      "8  8.154944e-08  8.154944e-08  8.154944e-08  8.154944e-08  8.154944e-08   \n",
      "9  4.495392e-07  4.495392e-07  4.495392e-07  4.495392e-07  4.495392e-07   \n",
      "\n",
      "       Topic 95      Topic 96      Topic 97      Topic 98      Topic 99  \n",
      "0  6.236358e-07  6.236358e-07  6.236358e-07  6.236358e-07  6.236358e-07  \n",
      "1  7.868440e-07  7.868440e-07  7.868440e-07  7.868440e-07  7.868440e-07  \n",
      "2  2.608242e-06  2.608242e-06  2.608242e-06  2.608242e-06  2.608242e-06  \n",
      "3  1.784217e-07  1.784217e-07  1.784217e-07  1.784217e-07  1.784217e-07  \n",
      "4  2.294052e-07  2.294052e-07  2.294052e-07  2.294052e-07  2.294052e-07  \n",
      "5  3.032508e-07  3.032508e-07  3.032508e-07  3.032508e-07  3.032508e-07  \n",
      "6  7.880531e-08  7.880531e-08  7.880531e-08  7.880531e-08  7.880531e-08  \n",
      "7  7.524454e-07  7.524454e-07  7.524454e-07  7.524454e-07  7.524454e-07  \n",
      "8  8.154944e-08  8.154944e-08  8.154944e-08  8.154944e-08  8.154944e-08  \n",
      "9  4.495392e-07  4.495392e-07  4.495392e-07  4.495392e-07  4.495392e-07  \n",
      "\n",
      "[10 rows x 100 columns]\n"
     ]
    }
   ],
   "source": [
    "document_topic_distributions = pd.DataFrame(\n",
    "    document_topic_distributions, columns=topic_names)\n",
    "print(document_topic_distributions)"
   ]
  },
  {
   "cell_type": "markdown",
   "metadata": {},
   "source": [
    "## By selecting Topic 2 from the word distribution, we can compare the word 'said' values from the Topic 1 (3.9) vs Topic 2 (3.4). This word appears a lot in both of these. We can further look at these words."
   ]
  },
  {
   "cell_type": "code",
   "execution_count": 12,
   "metadata": {},
   "outputs": [
    {
     "data": {
      "text/plain": [
       "said      3.929507\n",
       "know      1.502355\n",
       "man       1.160961\n",
       "come      1.136807\n",
       "say       1.103977\n",
       "time      1.027738\n",
       "think     1.007629\n",
       "like      0.994506\n",
       "little    0.981507\n",
       "old       0.979690\n",
       "henry     0.977810\n",
       "did       0.937714\n",
       "good      0.926981\n",
       "don       0.923551\n",
       "came      0.899301\n",
       "house     0.889868\n",
       "oh        0.879205\n",
       "varney    0.874602\n",
       "Name: Topic 2, dtype: float64"
      ]
     },
     "execution_count": 12,
     "metadata": {},
     "output_type": "execute_result"
    }
   ],
   "source": [
    "words = topic_word_distributions.loc['Topic 2'].sort_values(ascending=False).head(18)\n",
    "words\n"
   ]
  },
  {
   "cell_type": "markdown",
   "metadata": {},
   "source": [
    "## The word cloud is another tool used to analyze the results by drawing the most relevant words in relative larger fonts to their count in the topic word distribution of Topic 2."
   ]
  },
  {
   "cell_type": "code",
   "execution_count": 14,
   "metadata": {},
   "outputs": [
    {
     "name": "stdout",
     "output_type": "stream",
     "text": [
      "000      0.226948\n",
      "10       0.230698\n",
      "100      0.209283\n",
      "101st    0.214513\n",
      "103      0.192838\n",
      "104      0.203798\n",
      "108      0.209248\n",
      "109      0.180036\n",
      "11       0.207350\n",
      "110      0.185295\n",
      "111      0.195139\n",
      "116      0.194882\n",
      "117      0.174794\n",
      "12       0.184950\n",
      "120      0.193645\n",
      "128      0.219063\n",
      "12mo     0.248828\n",
      "13       0.219460\n",
      "130      0.173941\n",
      "135      0.223916\n",
      "Name: Topic 2, dtype: float64\n"
     ]
    },
    {
     "data": {
      "image/png": "[encoded data removed]",
      "text/plain": [
       "<Figure size 432x288 with 1 Axes>"
      ]
     },
     "metadata": {
      "needs_background": "light"
     },
     "output_type": "display_data"
    }
   ],
   "source": [
    "from matplotlib import pyplot as plt\n",
    "from wordcloud import WordCloud, STOPWORDS\n",
    "import matplotlib.colors as mcolors\n",
    "\n",
    "print(topic_word_distributions.loc['Topic 2'].head(20))\n",
    "\n",
    "# Create and generate a word cloud image:\n",
    "wordcloud = WordCloud().generate_from_frequencies(words)\n",
    "\n",
    "# Display the generated image:\n",
    "plt.imshow(wordcloud, interpolation='bilinear')\n",
    "plt.axis(\"off\")\n",
    "plt.show()\n"
   ]
  }
 ],
 "metadata": {
  "interpreter": {
   "hash": "af29365a973779c9560d56e09334d0c9d23342aad144db3e18bca9328584f409"
  },
  "kernelspec": {
   "display_name": "Python 3",
   "language": "python",
   "name": "python3"
  },
  "language_info": {
   "codemirror_mode": {
    "name": "ipython",
    "version": 3
   },
   "file_extension": ".py",
   "mimetype": "text/x-python",
   "name": "python",
   "nbconvert_exporter": "python",
   "pygments_lexer": "ipython3",
   "version": "3.8.3"
  }
 },
 "nbformat": 4,
 "nbformat_minor": 2
}
