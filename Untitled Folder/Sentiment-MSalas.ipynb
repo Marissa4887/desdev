{
 "cells": [
  {
   "cell_type": "markdown",
   "metadata": {},
   "source": [
    "## Sentiment Analysis\n",
    "Marissa Salas\n",
    "\n",
    "This text was from the History of Sir Richard Calmady, a novel that includes sexually explicit material and a \"female dandy\". Two analyses were performed one by the paragraph and the other by the sentence. The first analysis was the paragraph in total which was mostly neutral leaning towards postive. When analyzed by sentence the results show statements like this - \n",
    "God of Heaven! compound: 0.69, neg: 0.0, neu: 0.149, pos: 0.851, \n",
    "As mostly postive (85%). But these sentiment (neither the paragraph or by sentence) scores do not really reflect the true senitment of the paragraph on the whole nor this example sentence \"God of Heaven!\".\n",
    "\n"
   ]
  },
  {
   "cell_type": "code",
   "execution_count": 1,
   "metadata": {},
   "outputs": [
    {
     "name": "stderr",
     "output_type": "stream",
     "text": [
      "[nltk_data] Downloading package vader_lexicon to\n",
      "[nltk_data]     C:\\Users\\Streamer\\AppData\\Roaming\\nltk_data...\n",
      "[nltk_data] Downloading package punkt to\n",
      "[nltk_data]     C:\\Users\\Streamer\\AppData\\Roaming\\nltk_data...\n",
      "[nltk_data]   Package punkt is already up-to-date!\n"
     ]
    },
    {
     "data": {
      "text/plain": [
       "True"
      ]
     },
     "execution_count": 1,
     "metadata": {},
     "output_type": "execute_result"
    }
   ],
   "source": [
    "# This demo is adapted from https://programminghistorian.org/en/lessons/sentiment-analysis\n",
    "\n",
    "import nltk\n",
    "nltk.download('vader_lexicon')\n",
    "nltk.download('punkt')"
   ]
  },
  {
   "cell_type": "code",
   "execution_count": 4,
   "metadata": {},
   "outputs": [],
   "source": [
    "from nltk.sentiment.vader import SentimentIntensityAnalyzer\n",
    "sid = SentimentIntensityAnalyzer()\n",
    "\n",
    "# the variable 'message_text' now contains the text we will analyze.\n",
    "message_text = '''The storm has ceased--all is still. The winds are hushed; the church\n",
    "clock proclaims the hour of one: a hissing sound comes from the throat\n",
    "of the hideous being, and he raises his long, gaunt arms--the lips move.\n",
    "He advances. The girl places one small foot from the bed on to the\n",
    "floor. She is unconsciously dragging the clothing with her. The door of\n",
    "the room is in that direction--can she reach it? Has she power to\n",
    "walk?--can she withdraw her eyes from the face of the intruder, and so\n",
    "break the hideous charm? God of Heaven! is it real, or some dream so\n",
    "like reality as to nearly overturn the judgment for ever?'''"
   ]
  },
  {
   "cell_type": "code",
   "execution_count": 5,
   "metadata": {
    "scrolled": true
   },
   "outputs": [
    {
     "name": "stdout",
     "output_type": "stream",
     "text": [
      "The storm has ceased--all is still. The winds are hushed; the church\n",
      "clock proclaims the hour of one: a hissing sound comes from the throat\n",
      "of the hideous being, and he raises his long, gaunt arms--the lips move.\n",
      "He advances. The girl places one small foot from the bed on to the\n",
      "floor. She is unconsciously dragging the clothing with her. The door of\n",
      "the room is in that direction--can she reach it? Has she power to\n",
      "walk?--can she withdraw her eyes from the face of the intruder, and so\n",
      "break the hideous charm? God of Heaven! is it real, or some dream so\n",
      "like reality as to nearly overturn the judgment for ever?\n",
      "compound: 0.9286, neg: 0.0, neu: 0.872, pos: 0.128, "
     ]
    }
   ],
   "source": [
    "print(message_text)\n",
    "\n",
    "# Calling the polarity_scores method on sid and passing in the message_text outputs a dictionary with negative, neutral, positive, and compound scores for the input text\n",
    "scores = sid.polarity_scores(message_text)\n",
    "for key in sorted(scores):\n",
    "        print('{0}: {1}, '.format(key, scores[key]), end='')"
   ]
  },
  {
   "cell_type": "markdown",
   "metadata": {},
   "source": [
    "Context from the article above:\n",
    "\n",
    "VADER collects and scores negative, neutral, and positive words and features (and accounts for factors like negation along the way). The “neg”, “neu”, and “pos” values describe the fraction of weighted scores that fall into each category. VADER also sums all weighted scores to calculate a “compound” value normalized between -1 and 1; this value attempts to describe the overall affect of the entire text from strongly negative (-1) to strongly positive (1). In this case, the VADER analysis describes the passage as slightly-to-moderately negative (-0.3804). We can think of this value as estimating the overall impression of an average reader when considering the e-mail as a whole, despite some ambiguity and ambivalence along the way."
   ]
  },
  {
   "cell_type": "code",
   "execution_count": 7,
   "metadata": {},
   "outputs": [
    {
     "name": "stdout",
     "output_type": "stream",
     "text": [
      "The storm has ceased--all is still.\n",
      "compound: 0.0, neg: 0.0, neu: 1.0, pos: 0.0, \n",
      "The winds are hushed; the church\n",
      "clock proclaims the hour of one: a hissing sound comes from the throat\n",
      "of the hideous being, and he raises his long, gaunt arms--the lips move.\n",
      "compound: 0.0, neg: 0.0, neu: 1.0, pos: 0.0, \n",
      "He advances.\n",
      "compound: 0.0, neg: 0.0, neu: 1.0, pos: 0.0, \n",
      "The girl places one small foot from the bed on to the\n",
      "floor.\n",
      "compound: 0.0, neg: 0.0, neu: 1.0, pos: 0.0, \n",
      "She is unconsciously dragging the clothing with her.\n",
      "compound: 0.0, neg: 0.0, neu: 1.0, pos: 0.0, \n",
      "The door of\n",
      "the room is in that direction--can she reach it?\n",
      "compound: 0.0258, neg: 0.0, neu: 0.909, pos: 0.091, \n",
      "Has she power to\n",
      "walk?--can she withdraw her eyes from the face of the intruder, and so\n",
      "break the hideous charm?\n",
      "compound: 0.4696, neg: 0.0, neu: 0.867, pos: 0.133, \n",
      "God of Heaven!\n",
      "compound: 0.69, neg: 0.0, neu: 0.149, pos: 0.851, \n",
      "is it real, or some dream so\n",
      "like reality as to nearly overturn the judgment for ever?\n",
      "compound: 0.6418, neg: 0.0, neu: 0.741, pos: 0.259, \n"
     ]
    }
   ],
   "source": [
    "# below is the sentiment analysis code rewritten for sentence-level analysis\n",
    "# note the new module -- word_tokenize!\n",
    "import nltk.data\n",
    "from nltk.sentiment.vader import SentimentIntensityAnalyzer\n",
    "from nltk import sentiment\n",
    "from nltk import word_tokenize\n",
    "\n",
    "# Next, we initialize VADER so we can use it within our Python script\n",
    "sid = SentimentIntensityAnalyzer()\n",
    "\n",
    "# We will also initialize our 'english.pickle' function and give it a short name\n",
    "\n",
    "tokenizer = nltk.data.load('tokenizers/punkt/english.pickle')\n",
    "\n",
    "message_text = '''The storm has ceased--all is still. The winds are hushed; the church\n",
    "clock proclaims the hour of one: a hissing sound comes from the throat\n",
    "of the hideous being, and he raises his long, gaunt arms--the lips move.\n",
    "He advances. The girl places one small foot from the bed on to the\n",
    "floor. She is unconsciously dragging the clothing with her. The door of\n",
    "the room is in that direction--can she reach it? Has she power to\n",
    "walk?--can she withdraw her eyes from the face of the intruder, and so\n",
    "break the hideous charm? God of Heaven! is it real, or some dream so\n",
    "like reality as to nearly overturn the judgment for ever?'''\n",
    "# The tokenize method breaks up the paragraph into a list of strings. In this example, note that the tokenizer is confused by the absence of spaces after periods and actually fails to break up sentences in two instances. How might you fix that?\n",
    "\n",
    "sentences = tokenizer.tokenize(message_text)\n",
    "\n",
    "# We add the additional step of iterating through the list of sentences and calculating and printing polarity scores for each one.\n",
    "\n",
    "for sentence in sentences:\n",
    "        print(sentence)\n",
    "        scores = sid.polarity_scores(sentence)\n",
    "        for key in sorted(scores):\n",
    "                print('{0}: {1}, '.format(key, scores[key]), end='')\n",
    "        print()\n"
   ]
  },
  {
   "cell_type": "code",
   "execution_count": null,
   "metadata": {},
   "outputs": [],
   "source": []
  }
 ],
 "metadata": {
  "interpreter": {
   "hash": "af29365a973779c9560d56e09334d0c9d23342aad144db3e18bca9328584f409"
  },
  "kernelspec": {
   "display_name": "Python 3",
   "language": "python",
   "name": "python3"
  },
  "language_info": {
   "codemirror_mode": {
    "name": "ipython",
    "version": 3
   },
   "file_extension": ".py",
   "mimetype": "text/x-python",
   "name": "python",
   "nbconvert_exporter": "python",
   "pygments_lexer": "ipython3",
   "version": "3.8.3"
  }
 },
 "nbformat": 4,
 "nbformat_minor": 2
}
