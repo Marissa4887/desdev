
import urllib.request, urllib.error, urllib.parse

url = 'https://www.4icu.org/'

response = urllib.request.urlopen(url)
webContent = response.read()

print(webContent[0:1000])


url = 'https://www.4icu.org/'

response = urllib.request.urlopen(url)
webContent = response.read()
